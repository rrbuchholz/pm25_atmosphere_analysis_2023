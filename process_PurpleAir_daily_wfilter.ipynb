{
 "cells": [
  {
   "cell_type": "markdown",
   "metadata": {},
   "source": [
    "# Process 24h mean, max and daytim/nightime max for downloaded PurpleAir files"
   ]
  },
  {
   "cell_type": "markdown",
   "metadata": {},
   "source": [
    "Load all the PurpleAir QA/QC and smoke corrected data, write out a combined file. Process daily statistics."
   ]
  },
  {
   "cell_type": "markdown",
   "metadata": {},
   "source": [
    "### Load python packages"
   ]
  },
  {
   "cell_type": "code",
   "execution_count": 1,
   "metadata": {},
   "outputs": [],
   "source": [
    "import numpy as np\n",
    "import pandas as pd\n",
    "from pandas.tseries.offsets import DateOffset\n",
    "import matplotlib.pyplot as plt\n",
    "import datetime\n",
    "from pathlib import Path                   # System agnostic paths\n",
    "\n",
    "import requests # for url requests\n",
    "from statistics import median # for median of array\n",
    "import json # for json reading/writing\n",
    "import time # for epoch timestamp\n",
    "import csv # for writing csv files\n",
    "import glob # for listing files"
   ]
  },
  {
   "cell_type": "markdown",
   "metadata": {},
   "source": [
    "### Create reusable functions"
   ]
  },
  {
   "cell_type": "code",
   "execution_count": 2,
   "metadata": {},
   "outputs": [],
   "source": [
    "def fill_missing_dates(datafile, datetemplate):\n",
    "    \n",
    "    '''\n",
    "    Function that collects corrected PurpleAir PM2.5 data from a processed file\n",
    "    Requires a column: 'PM2.5_corrected'\n",
    "    \n",
    "    datafile (str): string path to file containing data\n",
    "    datetemplate (datetime64): dates to fill with data or NAN, so can have consistent data array record\n",
    "    \n",
    "    returns: aq_array (float) is a data array of combined PM2.5 values with a datetemplate index\n",
    "    \n",
    "    '''\n",
    "    \n",
    "    station_meta = datafile.split('_')\n",
    "    ID = station_meta[-4]\n",
    "    name = station_meta[-3]\n",
    "    lat = station_meta[-2]\n",
    "    lon = station_meta[-1].split('.csv')[0]\n",
    "    \n",
    "    load_data = pd.read_csv(datafile, na_values='NaN', keep_default_na=False)\n",
    "    PM25_loaded = pd.DataFrame(load_data['PM2.5_corrected'])\n",
    "    PM25_loaded.index = pd.to_datetime(load_data['date (UTC)'])\n",
    "    \n",
    "    # Make sure data all has the same dimensions\n",
    "    # Initialize the combined array\n",
    "    aq_array = pd.DataFrame(columns = [ID], index = datetemplate)\n",
    "\n",
    "    for d in datetemplate:\n",
    "        #print(d)\n",
    "        #if (PM25_loaded.loc[str(d)].values.size > 0):\n",
    "        try:\n",
    "            (PM25_loaded.loc[str(d)].values)\n",
    "            #print('It exists')\n",
    "            aq_array.loc[d] = PM25_loaded.loc[str(d)].values\n",
    "        except:\n",
    "            #print('No PA data for ', ID, ' at ' , d)\n",
    "            continue\n",
    "\n",
    "    return aq_array\n"
   ]
  },
  {
   "cell_type": "code",
   "execution_count": 3,
   "metadata": {},
   "outputs": [],
   "source": [
    "def convert_AQI(PM_data):   \n",
    "    \n",
    "    '''\n",
    "    Converts PM2.5 values to a PM2.5 AQI thresholds between 1 and 6 according to the EPA thresholds:\n",
    "    1 Good\n",
    "    2 Moderate\n",
    "    3 Unhealthy for Sensitive Groups\n",
    "    4 Unhealthy\n",
    "    5 Very Unhealthy\n",
    "    6 Hazardous\n",
    "    \n",
    "    requires: PM_data -- a pandas data array read in from a csv file with the fill_missing_dates function\n",
    "    \n",
    "    returns: final_aqi data array with values between 1 and 6\n",
    "    '''\n",
    "    \n",
    "    final_aqi = PM_data.copy()\n",
    "    # mask changes everything that does not satisfy the condition\n",
    "    # for example the first line below leaves everything where \n",
    "    # final data is greater than 12, but replaces 12 or less with 1.\n",
    "    final_aqi = final_aqi.where(final_aqi>12.1 ,1)\n",
    "    final_aqi = final_aqi.where((final_aqi<12.1) | (final_aqi> 35.5),2)\n",
    "    final_aqi = final_aqi.where((final_aqi<35.5) | (final_aqi> 55.5),3)\n",
    "    final_aqi = final_aqi.where((final_aqi<55.5) | (final_aqi> 150.5),4)\n",
    "    final_aqi = final_aqi.where((final_aqi<150.5) | (final_aqi> 250),5)\n",
    "    final_aqi = final_aqi.where(final_aqi<250.0,6)\n",
    "    # fill in all the NaN values again\n",
    "    final_aqi = final_aqi.where(PM_data.notna() , np.nan)\n",
    "\n",
    "\n",
    "    return final_aqi"
   ]
  },
  {
   "cell_type": "markdown",
   "metadata": {},
   "source": [
    "### Write 24 hourly and 12-hourly values - AQI are for GIS Story Map"
   ]
  },
  {
   "cell_type": "markdown",
   "metadata": {},
   "source": [
    "Local time in Sonoma County:\n",
    "(PST is 8 hours behind UTC)\n",
    "\n",
    "* 24-hour avg: 0:00 - 23:00 PST = 08:00 UTC – 07:00 (+1day) UTC (mean midnight – 11pm PST)\n",
    "* 24-hour max: 0:00 - 23:00 PST = 08:00 UTC – 07:00 (+1day) UTC (max midnight – 11pm PST)\n",
    "* Nighttime max: 20:00 (-1day) - 08:00 PST = 04:00 UTC – 16:00 UTC (max 8pm – 8am PST)\n",
    "* Daytime max: 8:00 - 20:00 PST = 16:00 UTC – 04:00 (+1day) UTC (max 8am – 8pm PST)"
   ]
  },
  {
   "cell_type": "code",
   "execution_count": 4,
   "metadata": {},
   "outputs": [],
   "source": [
    "files = glob.glob(\"example_data/processed_hourly_sensor_data_2020/*.csv\")"
   ]
  },
  {
   "cell_type": "code",
   "execution_count": 5,
   "metadata": {},
   "outputs": [],
   "source": [
    "base_date = pd.date_range(start='2020-08-01 00:00:00+00:00', end='2020-11-06 23:00:00+00:00', freq='H')"
   ]
  },
  {
   "cell_type": "code",
   "execution_count": 6,
   "metadata": {},
   "outputs": [
    {
     "name": "stdout",
     "output_type": "stream",
     "text": [
      "example_data/processed_hourly_sensor_data_2020/PurpleAir_processed_3318_VillageEastDrive_38.247944_-122.60063.csv\n",
      "example_data/processed_hourly_sensor_data_2020/PurpleAir_processed_3184_Imola6_38.3051_-122.288994.csv\n",
      "example_data/processed_hourly_sensor_data_2020/PurpleAir_processed_3247_Imola-2_38.28229_-122.25759.csv\n",
      "example_data/processed_hourly_sensor_data_2020/PurpleAir_processed_3631_MeadowCt_38.407654_-122.83102.csv\n",
      "example_data/processed_hourly_sensor_data_2020/PurpleAir_processed_3848_MARINCC_38.259796_-122.63819.csv\n"
     ]
    },
    {
     "data": {
      "text/html": [
       "<div>\n",
       "<style scoped>\n",
       "    .dataframe tbody tr th:only-of-type {\n",
       "        vertical-align: middle;\n",
       "    }\n",
       "\n",
       "    .dataframe tbody tr th {\n",
       "        vertical-align: top;\n",
       "    }\n",
       "\n",
       "    .dataframe thead th {\n",
       "        text-align: right;\n",
       "    }\n",
       "</style>\n",
       "<table border=\"1\" class=\"dataframe\">\n",
       "  <thead>\n",
       "    <tr style=\"text-align: right;\">\n",
       "      <th></th>\n",
       "      <th>3318</th>\n",
       "      <th>3184</th>\n",
       "      <th>3247</th>\n",
       "      <th>3631</th>\n",
       "      <th>3848</th>\n",
       "    </tr>\n",
       "  </thead>\n",
       "  <tbody>\n",
       "    <tr>\n",
       "      <th>2020-08-01 00:00:00+00:00</th>\n",
       "      <td>4.3786</td>\n",
       "      <td>NaN</td>\n",
       "      <td>4.8262</td>\n",
       "      <td>NaN</td>\n",
       "      <td>3.9996</td>\n",
       "    </tr>\n",
       "    <tr>\n",
       "      <th>2020-08-01 01:00:00+00:00</th>\n",
       "      <td>NaN</td>\n",
       "      <td>NaN</td>\n",
       "      <td>4.9098</td>\n",
       "      <td>NaN</td>\n",
       "      <td>4.1939</td>\n",
       "    </tr>\n",
       "    <tr>\n",
       "      <th>2020-08-01 02:00:00+00:00</th>\n",
       "      <td>4.09</td>\n",
       "      <td>NaN</td>\n",
       "      <td>5.0219</td>\n",
       "      <td>NaN</td>\n",
       "      <td>3.9026</td>\n",
       "    </tr>\n",
       "    <tr>\n",
       "      <th>2020-08-01 03:00:00+00:00</th>\n",
       "      <td>3.5225</td>\n",
       "      <td>NaN</td>\n",
       "      <td>4.0251</td>\n",
       "      <td>NaN</td>\n",
       "      <td>3.413</td>\n",
       "    </tr>\n",
       "    <tr>\n",
       "      <th>2020-08-01 04:00:00+00:00</th>\n",
       "      <td>3.4107</td>\n",
       "      <td>NaN</td>\n",
       "      <td>3.6772</td>\n",
       "      <td>NaN</td>\n",
       "      <td>3.0921</td>\n",
       "    </tr>\n",
       "    <tr>\n",
       "      <th>...</th>\n",
       "      <td>...</td>\n",
       "      <td>...</td>\n",
       "      <td>...</td>\n",
       "      <td>...</td>\n",
       "      <td>...</td>\n",
       "    </tr>\n",
       "    <tr>\n",
       "      <th>2020-11-06 19:00:00+00:00</th>\n",
       "      <td>2.8495</td>\n",
       "      <td>NaN</td>\n",
       "      <td>2.9378</td>\n",
       "      <td>-0.4888</td>\n",
       "      <td>3.7065</td>\n",
       "    </tr>\n",
       "    <tr>\n",
       "      <th>2020-11-06 20:00:00+00:00</th>\n",
       "      <td>2.8665</td>\n",
       "      <td>NaN</td>\n",
       "      <td>3.2295</td>\n",
       "      <td>-0.7725</td>\n",
       "      <td>3.4572</td>\n",
       "    </tr>\n",
       "    <tr>\n",
       "      <th>2020-11-06 21:00:00+00:00</th>\n",
       "      <td>2.5867</td>\n",
       "      <td>NaN</td>\n",
       "      <td>3.1729</td>\n",
       "      <td>2.1132</td>\n",
       "      <td>2.7952</td>\n",
       "    </tr>\n",
       "    <tr>\n",
       "      <th>2020-11-06 22:00:00+00:00</th>\n",
       "      <td>2.0682</td>\n",
       "      <td>NaN</td>\n",
       "      <td>2.8632</td>\n",
       "      <td>0.4907</td>\n",
       "      <td>2.2419</td>\n",
       "    </tr>\n",
       "    <tr>\n",
       "      <th>2020-11-06 23:00:00+00:00</th>\n",
       "      <td>2.0771</td>\n",
       "      <td>NaN</td>\n",
       "      <td>2.4917</td>\n",
       "      <td>-2.6663</td>\n",
       "      <td>2.187</td>\n",
       "    </tr>\n",
       "  </tbody>\n",
       "</table>\n",
       "<p>2352 rows × 5 columns</p>\n",
       "</div>"
      ],
      "text/plain": [
       "                             3318 3184    3247    3631    3848\n",
       "2020-08-01 00:00:00+00:00  4.3786  NaN  4.8262     NaN  3.9996\n",
       "2020-08-01 01:00:00+00:00     NaN  NaN  4.9098     NaN  4.1939\n",
       "2020-08-01 02:00:00+00:00    4.09  NaN  5.0219     NaN  3.9026\n",
       "2020-08-01 03:00:00+00:00  3.5225  NaN  4.0251     NaN   3.413\n",
       "2020-08-01 04:00:00+00:00  3.4107  NaN  3.6772     NaN  3.0921\n",
       "...                           ...  ...     ...     ...     ...\n",
       "2020-11-06 19:00:00+00:00  2.8495  NaN  2.9378 -0.4888  3.7065\n",
       "2020-11-06 20:00:00+00:00  2.8665  NaN  3.2295 -0.7725  3.4572\n",
       "2020-11-06 21:00:00+00:00  2.5867  NaN  3.1729  2.1132  2.7952\n",
       "2020-11-06 22:00:00+00:00  2.0682  NaN  2.8632  0.4907  2.2419\n",
       "2020-11-06 23:00:00+00:00  2.0771  NaN  2.4917 -2.6663   2.187\n",
       "\n",
       "[2352 rows x 5 columns]"
      ]
     },
     "execution_count": 6,
     "metadata": {},
     "output_type": "execute_result"
    }
   ],
   "source": [
    "count = 0\n",
    "\n",
    "#for file in files[0:5]:\n",
    "for file in files:\n",
    "    print(file)\n",
    "    array = fill_missing_dates(file, base_date)\n",
    "    \n",
    "    if count == 0:\n",
    "    #   print('collecting first record)\n",
    "        PM25_data = array\n",
    "        count += 1\n",
    "    else:\n",
    "        temp = PM25_data\n",
    "        newdata = array\n",
    "\n",
    "        PM25_data = pd.concat([temp, newdata], axis=1)\n",
    "\n",
    "\n",
    "PM25_data"
   ]
  },
  {
   "cell_type": "code",
   "execution_count": 7,
   "metadata": {},
   "outputs": [],
   "source": [
    "# convert to local time\n",
    "PM25_data.index = PM25_data.index.tz_convert('Etc/GMT+8')\n",
    "PM25_data.index.name = 'Date (US/Pacific Standard Time)'\n",
    "PM25_data = PM25_data.astype(float, errors = 'raise')\n"
   ]
  },
  {
   "cell_type": "code",
   "execution_count": 8,
   "metadata": {},
   "outputs": [],
   "source": [
    "#Filter 24 hour period for 25% of data or more\n",
    "# Count number of values in a local time day\n",
    "daily_count = PM25_data.resample('D').count()\n",
    "# Create array same shape as PM2.5 with the daily counts\n",
    "expanded_dcount = pd.DataFrame(np.zeros_like(PM25_data), dtype='int64', \n",
    "                               columns=PM25_data.columns, index=PM25_data.index)\n",
    "\n",
    "for row in PM25_data.index:\n",
    "    # replace row with counts\n",
    "    expanded_dcount.loc[str(row)]=daily_count.loc[str(row.date())].values\n",
    "\n",
    "#expanded_dcount"
   ]
  },
  {
   "cell_type": "code",
   "execution_count": 9,
   "metadata": {},
   "outputs": [],
   "source": [
    "# mask where less than 90% of hourly data exists\n",
    "# i.e. need 22 out of 24 hours or more\n",
    "filtered_PM25_data = PM25_data.where(expanded_dcount >= 22)"
   ]
  },
  {
   "cell_type": "code",
   "execution_count": 10,
   "metadata": {},
   "outputs": [
    {
     "name": "stdout",
     "output_type": "stream",
     "text": [
      "Data loss = 8729-8299=430\n",
      "5.181347150259067%\n"
     ]
    }
   ],
   "source": [
    "filtered_datacount = np.count_nonzero(~np.isnan(filtered_PM25_data))\n",
    "orig_datacount = np.count_nonzero(~np.isnan(PM25_data))\n",
    "countdiff = orig_datacount-filtered_datacount\n",
    "print('Data loss = '+ str(orig_datacount) +'-'+ str(filtered_datacount) +'=' +str(countdiff))\n",
    "print(str((countdiff/filtered_datacount)*100) + '%')"
   ]
  },
  {
   "cell_type": "code",
   "execution_count": 11,
   "metadata": {},
   "outputs": [],
   "source": [
    "#PM25_data\n",
    "filtered_PM25_data.to_csv('example_data/2020/concatenated_stations_2020_PurpleAir_hourly_filtered90perc.csv',na_rep='NAN', date_format='%Y%m%d %H:%M')"
   ]
  },
  {
   "cell_type": "markdown",
   "metadata": {},
   "source": [
    "### Daily processing"
   ]
  },
  {
   "cell_type": "code",
   "execution_count": 12,
   "metadata": {},
   "outputs": [],
   "source": [
    "# 24 h average\n",
    "day_avg = PM25_data.resample('D').mean()\n",
    "# 24 h max\n",
    "day_max = PM25_data.resample('D').apply(lambda x : max(x, key = abs))\n",
    "\n",
    "# Need 22 hours (>90%) to get a daily average or max\n",
    "daily_count = PM25_data.resample('D').count()\n",
    "subset_day_avg = day_avg.where(daily_count >= 22)\n",
    "subset_day_max = day_max.where(daily_count >= 22)\n",
    "\n",
    "subset_day_avg_round = subset_day_avg.round(decimals=4)\n",
    "subset_day_max_round = subset_day_max.round(decimals=4)\n",
    "\n",
    "#print(subset_day_avg_round, subset_day_max_round)"
   ]
  },
  {
   "cell_type": "markdown",
   "metadata": {},
   "source": [
    "### Day/Night Processing"
   ]
  },
  {
   "cell_type": "code",
   "execution_count": 13,
   "metadata": {},
   "outputs": [
    {
     "name": "stderr",
     "output_type": "stream",
     "text": [
      "<ipython-input-13-8cdb18582af0>:2: FutureWarning: 'loffset' in .resample() and in Grouper() is deprecated.\n",
      "\n",
      ">>> df.resample(freq=\"3s\", loffset=\"8H\")\n",
      "\n",
      "becomes:\n",
      "\n",
      ">>> from pandas.tseries.frequencies import to_offset\n",
      ">>> df = df.resample(freq=\"3s\").mean()\n",
      ">>> df.index = df.index.to_timestamp() + to_offset(\"8H\")\n",
      "\n",
      "  diurnal_max = PM25_data.resample('12H', loffset='8H').apply(lambda x : max(x, key = abs))\n",
      "<ipython-input-13-8cdb18582af0>:5: FutureWarning: 'loffset' in .resample() and in Grouper() is deprecated.\n",
      "\n",
      ">>> df.resample(freq=\"3s\", loffset=\"8H\")\n",
      "\n",
      "becomes:\n",
      "\n",
      ">>> from pandas.tseries.frequencies import to_offset\n",
      ">>> df = df.resample(freq=\"3s\").mean()\n",
      ">>> df.index = df.index.to_timestamp() + to_offset(\"8H\")\n",
      "\n",
      "  diurnal_count = PM25_data.resample('12H', loffset='8H').count()\n"
     ]
    }
   ],
   "source": [
    "# 12 hr max, 8 to 8\n",
    "diurnal_max = PM25_data.resample('12H', loffset='8H').apply(lambda x : max(x, key = abs))\n",
    "\n",
    "# Need 11 hours (>90%) to get a daily average or max\n",
    "diurnal_count = PM25_data.resample('12H', loffset='8H').count()\n",
    "subset_diurnal_max = diurnal_max.where(diurnal_count >= 11)\n",
    "subset_diurnal_max_round = subset_diurnal_max.round(decimals=4)\n",
    "\n",
    "daytime_max = subset_diurnal_max_round[1::2]\n",
    "nighttime_max = subset_diurnal_max_round[::2]\n",
    "\n",
    "#subset_diurnal_max_round"
   ]
  },
  {
   "cell_type": "markdown",
   "metadata": {},
   "source": [
    "### Write to csv files"
   ]
  },
  {
   "cell_type": "code",
   "execution_count": 14,
   "metadata": {},
   "outputs": [],
   "source": [
    "subset_day_avg_round.to_csv('example_data/2020/concatenated_stations_2020_PurpleAir_dayavg.csv',na_rep='NAN', date_format='%Y%m%d %H:%M')\n",
    "subset_day_max_round.to_csv('example_data/2020/concatenated_stations_2020_PurpleAir_daymax.csv',na_rep='NAN', date_format='%Y%m%d %H:%M')\n",
    "daytime_max.to_csv('example_data/2020/concatenated_stations_2020_PurpleAir_daytimemax.csv',na_rep='NAN', date_format='%Y%m%d %H:%M')\n",
    "nighttime_max.to_csv('example_data/2020/concatenated_stations_2020_PurpleAir_nighttimemax.csv',na_rep='NAN', date_format='%Y%m%d %H:%M')"
   ]
  },
  {
   "cell_type": "markdown",
   "metadata": {},
   "source": [
    "## Convert to AQI"
   ]
  },
  {
   "cell_type": "code",
   "execution_count": 15,
   "metadata": {},
   "outputs": [],
   "source": [
    "daytime_max_AQI = convert_AQI(daytime_max)\n",
    "nighttime_max_AQI = convert_AQI(nighttime_max)\n",
    "day_avg_AQI = convert_AQI(subset_day_avg_round)\n",
    "day_max_AQI = convert_AQI(subset_day_max_round)\n"
   ]
  },
  {
   "cell_type": "markdown",
   "metadata": {},
   "source": [
    "## Convert to GSI-specific format"
   ]
  },
  {
   "cell_type": "code",
   "execution_count": 16,
   "metadata": {},
   "outputs": [],
   "source": [
    "daytime_max_AQI = daytime_max_AQI.astype(float, errors = 'raise')\n",
    "nighttime_max_AQI = nighttime_max_AQI.astype(float, errors = 'raise')\n",
    "day_avg_AQI = day_avg_AQI.astype(float, errors = 'raise')\n",
    "day_max_AQI = day_max_AQI.astype(float, errors = 'raise')"
   ]
  },
  {
   "cell_type": "code",
   "execution_count": 17,
   "metadata": {},
   "outputs": [],
   "source": [
    "def format_gsi(dataframe):\n",
    "    count = 0\n",
    "    \n",
    "    for title in dataframe.columns:\n",
    "        #print(title)\n",
    "        extract_station = pd.DataFrame(dataframe[title])\n",
    "        extract_station.columns = ['AQI_cat']\n",
    "        extract_station['Station_ID'] = title\n",
    "        #print(extract_station)\n",
    "        if count == 0:\n",
    "            #   print('collecting first record)PM25_data = array\n",
    "            gsi_PM25_data = extract_station\n",
    "            count += 1\n",
    "            #print(gsi_PM25_data)\n",
    "\n",
    "        else:\n",
    "            temp = gsi_PM25_data\n",
    "            newdata = extract_station\n",
    "            \n",
    "            gsi_PM25_data = pd.concat([temp, newdata], axis=0)\n",
    "            #gsi_PM25_data = gsi_PM25_data.append(extract_station)\n",
    "            #print(gsi_PM25_data)\n",
    "\n",
    "        del(extract_station)\n",
    "\n",
    "    return gsi_PM25_data"
   ]
  },
  {
   "cell_type": "code",
   "execution_count": 18,
   "metadata": {},
   "outputs": [],
   "source": [
    "#extract_station = pd.DataFrame(day_max_AQI['18911'])\n",
    "#extract_station.columns = ['AQI_cat']\n",
    "#extract_station"
   ]
  },
  {
   "cell_type": "code",
   "execution_count": 19,
   "metadata": {},
   "outputs": [],
   "source": [
    "gsi_dayavg = format_gsi(day_avg_AQI)\n",
    "gsi_daymax = format_gsi(day_max_AQI)\n",
    "gsi_daytimemax = format_gsi(daytime_max_AQI)\n",
    "gsi_nighttimemax = format_gsi(nighttime_max_AQI)"
   ]
  },
  {
   "cell_type": "markdown",
   "metadata": {},
   "source": [
    "### Write to csv"
   ]
  },
  {
   "cell_type": "code",
   "execution_count": 20,
   "metadata": {},
   "outputs": [],
   "source": [
    "gsi_dayavg.to_csv('example_data/2020/AQI_stations_2020_PurpleAir_dayavg.csv',na_rep='NAN', date_format='%Y%m%d %H:%M')\n",
    "gsi_daymax.to_csv('example_data/2020/AQI_stations_2020_PurpleAir_daymax.csv',na_rep='NAN', date_format='%Y%m%d %H:%M')\n",
    "gsi_daytimemax.to_csv('example_data/2020/AQI_stations_2020_PurpleAir_daytimemax.csv',na_rep='NAN', date_format='%Y%m%d %H:%M')\n",
    "gsi_nighttimemax.to_csv('example_data/2020/AQI_stations_2020_PurpleAir_nighttimemax.csv',na_rep='NAN', date_format='%Y%m%d %H:%M')"
   ]
  },
  {
   "cell_type": "markdown",
   "metadata": {},
   "source": [
    "### Plot the values"
   ]
  },
  {
   "cell_type": "code",
   "execution_count": 21,
   "metadata": {},
   "outputs": [],
   "source": [
    "# Re-usable plotting call\n",
    "def ts_plot(time_arr,val_arr,color_choice,label_string,dashpattern):\n",
    "    plt.plot(time_arr, val_arr,dashpattern,label=label_string,\n",
    "         color=color_choice, linewidth=2.5,\n",
    "         markerfacecolor=color_choice,\n",
    "         markeredgecolor='grey',\n",
    "         markeredgewidth=1)\n"
   ]
  },
  {
   "cell_type": "code",
   "execution_count": 22,
   "metadata": {},
   "outputs": [
    {
     "data": {
      "image/png": "[encoded data removed]",
      "text/plain": [
       "<Figure size 1440x720 with 1 Axes>"
      ]
     },
     "metadata": {
      "needs_background": "light"
     },
     "output_type": "display_data"
    }
   ],
   "source": [
    "plt.figure(figsize=(20,10))\n",
    "ax = plt.axes()\n",
    "\n",
    "for sensor_id in subset_day_avg_round.columns:\n",
    "    #print(sensor_id)\n",
    "    ts_plot(subset_day_avg_round.index.values,subset_day_avg_round[sensor_id],'orange',r'PM$_{2.5}$ ('+str(sensor_id)+' )','--')\n",
    "    \n",
    "\n",
    "#titles\n",
    "plt.title('PurpleAir PM2.5 Measurements',fontsize=14)\n",
    "#plt.title('PurpleAir AQI Measurements',fontsize=14)\n",
    "plt.xlabel('Date and time (UTC)',fontsize=14)\n",
    "plt.ylabel(r'PM$_{2.5}$ ($\\mu$g m$^{-3}$)',fontsize=14)\n",
    "\n",
    "plt.legend(bbox_to_anchor=(0.12, 0.78),loc='center',fontsize=12)\n",
    "\n",
    "\n",
    "\n",
    "plt.show() "
   ]
  },
  {
   "cell_type": "code",
   "execution_count": null,
   "metadata": {},
   "outputs": [],
   "source": []
  }
 ],
 "metadata": {
  "kernelspec": {
   "display_name": "Python 3",
   "language": "python",
   "name": "python3"
  },
  "language_info": {
   "codemirror_mode": {
    "name": "ipython",
    "version": 3
   },
   "file_extension": ".py",
   "mimetype": "text/x-python",
   "name": "python",
   "nbconvert_exporter": "python",
   "pygments_lexer": "ipython3",
   "version": "3.8.8"
  }
 },
 "nbformat": 4,
 "nbformat_minor": 4
}
